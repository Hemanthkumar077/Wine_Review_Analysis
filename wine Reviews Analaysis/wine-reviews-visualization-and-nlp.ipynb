{
 "cells": [
  {
   "cell_type": "markdown",
   "metadata": {
    "_uuid": "d1c4f7123e2d4d45a79eb52e3ac9624f257aafa2"
   },
   "source": [
    "# HISTORY OF WINE\n",
    "<br>\n",
    "The earliest archaeological evidence of wine grapes has been found at sites in Georgia (c. 6000 BC), Iran (c. 5000 BC), Greece (c. 4500 BC), and Sicily (c. 4000 BC) although there is earlier evidence of a wine made from fermented grapes among other fruits being consumed in China (c. 7000–5500 BC). The oldest evidence of wine production has been found in Armenia (c. 4100 BC).\n",
    "\n",
    "The altered consciousness produced by wine has been considered religious since its origin. The ancient Greeks worshiped Dionysus or Bacchus and the Ancient Romans carried on his cult. Consumption of ritual wine was part of Jewish practice since Biblical times and, as part of the eucharist commemorating Jesus's Last Supper, became even more essential to the Christian Church. Although Islam nominally forbade the production or consumption of wine, during its Golden Age, alchemists such as Geber pioneered wine's distillation for medicinal and industrial purposes such as the production of perfume.\n",
    "\n",
    "Wine production and consumption increased, burgeoning from the 15th century onwards as part of European expansion. Despite the devastating 1887 phylloxera louse infestation, modern science and technology adapted and industrial wine production and wine consumption now occur throughout the world.\n",
    "<font size=0.5>https://en.wikipedia.org/wiki/History_of_wine</font>\n",
    "<br>\n",
    "<img src=\"https://spectatorlife.imgix.net/content/uploads/2018/04/iStock-615269202.jpg?auto=compress,enhance,format&crop=faces,entropy,edges&fit=crop&w=820&h=550\" width=500/>\n",
    "<br>\n",
    "\n",
    "Our dataset contains features below. We will analyze the dataset and use Natural Language Process to make a prediction.\n",
    "\n",
    "<font size=4 color=\"red\">**CONTENT**</font><br>\n",
    "    1.[Import Libraries and Read Data](#1)<br>\n",
    "    2.[Explore and Visualize Data](#2)<br>\n",
    "    3.[Natural Language Process](#3)<br>"
   ]
  },
  {
   "cell_type": "markdown",
   "metadata": {
    "_uuid": "54d25682b0e86fd73e15fbed4ae856708b60c293"
   },
   "source": [
    "## <a id=1></a>Import Libraries and Read Data"
   ]
  },
  {
   "cell_type": "code",
   "execution_count": null,
   "metadata": {},
   "outputs": [],
   "source": [
    "pip install chart-studio\n"
   ]
  },
  {
   "cell_type": "code",
   "execution_count": null,
   "metadata": {
    "_cell_guid": "b1076dfc-b9ad-4769-8c92-a6c4dae69d19",
    "_uuid": "8f2839f25d086af736a60e9eeb907d3b93b6e0e5",
    "trusted": true
   },
   "outputs": [],
   "source": [
    "# Import necessary libraries\n",
    "import numpy as np  # Linear algebra\n",
    "import pandas as pd  # Data processing, CSV file I/O\n",
    "import matplotlib.pyplot as plt  # Visualization\n",
    "import seaborn as sns  # Statistical plots\n",
    "\n",
    "# Enable inline plotting for Matplotlib\n",
    "%matplotlib inline\n",
    "\n",
    "# Plotly imports (Fixed ImportError issue)\n",
    "import plotly.graph_objects as go\n",
    "from plotly.offline import init_notebook_mode, iplot\n",
    "\n",
    "# Enable Plotly offline mode\n",
    "init_notebook_mode(connected=True)\n",
    "\n",
    "# Example Plotly visualization\n",
    "trace = go.Scatter(x=[1, 2, 3], y=[4, 5, 6], mode='lines', name='Sample Line')\n",
    "fig = go.Figure(data=[trace])\n",
    "iplot(fig)\n"
   ]
  },
  {
   "cell_type": "code",
   "execution_count": null,
   "metadata": {},
   "outputs": [],
   "source": [
    "df = pd.read_csv(\"winemag-data-130k-v2.csv\")"
   ]
  },
  {
   "cell_type": "code",
   "execution_count": null,
   "metadata": {
    "_uuid": "24e1acc86585254b791eacef140b772a27abd17e",
    "trusted": true
   },
   "outputs": [],
   "source": [
    "df.info()"
   ]
  },
  {
   "cell_type": "code",
   "execution_count": null,
   "metadata": {
    "_uuid": "00f795c24c9ad21f690dc9f0da62ab7e8850539e",
    "trusted": true
   },
   "outputs": [],
   "source": [
    "df.head() # First 5 rows of our dataset"
   ]
  },
  {
   "cell_type": "markdown",
   "metadata": {
    "_uuid": "824786ced4f8f1396bb08503f70b5590dfbad2d6"
   },
   "source": [
    "Dataset contains; <br><br>\n",
    "\n",
    "**country**: The country that the wine is from <br>\n",
    "**description**: A few sentences from a sommelier describing the wine's taste, smell, look, feel, etc. <br>\n",
    "**designation**: The vineyard within the winery where the grapes that made the wine are from <br>\n",
    "**points**: The number of points WineEnthusiast rated the wine on a scale of 1-100 (though they say they only post reviews for wines that score >=80) <br>\n",
    "**price**: The cost for a bottle of the wine <br>\n",
    "**province**: The province or state that the wine is from <br>\n",
    "**region_1**: The wine growing area in a province or state (ie Napa) <br>\n",
    "**region_2**: Sometimes there are more specific regions specified within a wine growing area (ie Rutherford inside the Napa Valley), but this value can sometimes be blank <br>\n",
    "**taster_name**: Name of the person who tasted and reviewed the wine <br>\n",
    "**taster_twitter_handle**: Twitter handle for the person who tasted and reviewed the wine <br>\n",
    "**title**: The title of the wine review, which often contains the vintage if you're interested in extracting that feature <br>\n",
    "**variety**: The type of grapes used to make the wine (ie Pinot Noir) <br>\n",
    "**winery**: The winery that made the wine <br>"
   ]
  },
  {
   "cell_type": "code",
   "execution_count": null,
   "metadata": {
    "_uuid": "83e4658fb1e0081706dc1673eb3b64fcba1d3877",
    "trusted": true
   },
   "outputs": [],
   "source": [
    "# Let's delete \"Unnamed: 0\" column\n",
    "df.drop([\"Unnamed: 0\"], axis=1, inplace=True)"
   ]
  },
  {
   "cell_type": "markdown",
   "metadata": {
    "_uuid": "45456dbd7fad4da1d0974c7f83e1c9d723d4e305"
   },
   "source": [
    "## <a id=2></a> Exploration and Visualization of Data"
   ]
  },
  {
   "cell_type": "markdown",
   "metadata": {
    "_uuid": "a085e024ccc835908f52da7063043bc147d3c263"
   },
   "source": [
    "**Number of Wine Tasted According To Countries** (Top 10)"
   ]
  },
  {
   "cell_type": "code",
   "execution_count": null,
   "metadata": {
    "_uuid": "27a3a76441979287169f243b7abc469b8e564ab3",
    "trusted": true
   },
   "outputs": [],
   "source": [
    "plt.figure(figsize=(16,7))\n",
    "sns.set(style=\"darkgrid\")\n",
    "sns.barplot(x=df.country.value_counts()[:10].index, y=df.country.value_counts()[:10].values)\n",
    "plt.xlabel(\"Countries\")\n",
    "plt.ylabel(\"Number of Wine\")\n",
    "plt.show()"
   ]
  },
  {
   "cell_type": "markdown",
   "metadata": {
    "_uuid": "35eda29dabc9bbf30545f3a2c7ae63af2e47ea8c"
   },
   "source": [
    "**Average Points** (Top 10)"
   ]
  },
  {
   "cell_type": "code",
   "execution_count": null,
   "metadata": {
    "_uuid": "99b8bfdb49c940b5e9c5d419de6ef9a0cebd7080",
    "trusted": true
   },
   "outputs": [],
   "source": [
    "import matplotlib.pyplot as plt\n",
    "import seaborn as sns\n",
    "import pandas as pd\n",
    "\n",
    "# Ensure 'points' is numeric\n",
    "df[\"points\"] = pd.to_numeric(df[\"points\"], errors=\"coerce\")\n",
    "\n",
    "# Group by country and get the mean points\n",
    "country_avg_points = df.groupby(\"country\", as_index=False)[\"points\"].mean()\n",
    "top_10_countries = country_avg_points.sort_values(by=\"points\", ascending=False).head(10)\n",
    "\n",
    "# Plot\n",
    "plt.figure(figsize=(16, 7))\n",
    "g = sns.barplot(x=top_10_countries[\"country\"], y=top_10_countries[\"points\"], palette=\"gist_ncar\")\n",
    "\n",
    "plt.xlabel(\"Countries\")\n",
    "plt.ylabel(\"Average Points\")\n",
    "plt.title(\"Average Points Top 10\")\n",
    "\n",
    "# Annotate bars\n",
    "for p in g.patches:\n",
    "    g.annotate(f\"{p.get_height():.2f}\", (p.get_x() + p.get_width() / 2., p.get_height()),\n",
    "               ha='center', va='center', fontsize=11, color='gray', xytext=(0, 20),\n",
    "               textcoords='offset points')\n",
    "\n",
    "plt.show()\n"
   ]
  },
  {
   "cell_type": "code",
   "execution_count": null,
   "metadata": {
    "_uuid": "49ec6f703b62f0aebb864e7b5b51e0e48a4d6ede",
    "trusted": true
   },
   "outputs": [],
   "source": [
    "plt.figure(figsize=(16,7))\n",
    "\n",
    "# Compute average price per country and get top 10\n",
    "avg_price_per_country = df.groupby(\"country\", as_index=False)[\"price\"].mean()\n",
    "top_10_countries = avg_price_per_country.nlargest(10, \"price\")\n",
    "\n",
    "# Create bar plot\n",
    "ax = sns.barplot(x=\"country\", y=\"price\", data=top_10_countries, palette=\"Blues_r\")\n",
    "\n",
    "# Label formatting\n",
    "ax.set_xlabel(\"Countries\", fontsize=12)\n",
    "ax.set_ylabel(\"Average Price (US Dollar)\", fontsize=12)\n",
    "ax.set_title(\"Top 10 Countries by Average Wine Price\", fontsize=14)\n",
    "\n",
    "# Add value annotations\n",
    "ax.bar_label(ax.containers[0], fmt=\"%.2f\", label_type=\"edge\", fontsize=11, color=\"gray\", padding=5)\n",
    "\n",
    "plt.show()\n"
   ]
  },
  {
   "cell_type": "markdown",
   "metadata": {
    "_uuid": "6ee291740646b3736dce8956f6fc2122369a45b6"
   },
   "source": [
    "**Points / Price Ratio** (Top 10)"
   ]
  },
  {
   "cell_type": "code",
   "execution_count": null,
   "metadata": {
    "_uuid": "29a46faeae682f5c821e3a2934ef302941e222df",
    "trusted": true
   },
   "outputs": [],
   "source": [
    "import numpy as np\n",
    "import seaborn as sns\n",
    "import matplotlib.pyplot as plt\n",
    "\n",
    "# Remove rows with NaN prices\n",
    "df2 = df[np.isfinite(df[\"price\"])].copy()\n",
    "\n",
    "# Compute points/price ratio\n",
    "df2[\"points/price\"] = df2[\"points\"] / df2[\"price\"]\n",
    "\n",
    "# Group by country and compute the mean (only for numeric columns)\n",
    "country_avg = df2.groupby(\"country\", as_index=False).mean(numeric_only=True)\n",
    "\n",
    "# Sort by points/price ratio\n",
    "top_countries = country_avg.sort_values(by=\"points/price\", ascending=False).head(10)\n",
    "\n",
    "# Plot\n",
    "plt.figure(figsize=(16,7))\n",
    "ax = sns.barplot(x=top_countries[\"country\"], y=top_countries[\"points/price\"], palette=\"jet_r\")\n",
    "\n",
    "# Label formatting\n",
    "ax.set_xlabel(\"Countries\")\n",
    "ax.set_ylabel(\"Points / Price Ratio\")\n",
    "plt.xticks(rotation=45, ha=\"right\")\n",
    "plt.title(\"Top 10 Countries by Points/Price Ratio\")\n",
    "\n",
    "# Add value annotations\n",
    "ax.bar_label(ax.containers[0], fmt=\"%.2f\", label_type=\"edge\", fontsize=11, color=\"gray\", padding=5)\n",
    "\n",
    "plt.show()\n"
   ]
  },
  {
   "cell_type": "code",
   "execution_count": null,
   "metadata": {
    "_uuid": "a93c1f5827ec54139a76d0d73533a0d78e17da3e",
    "trusted": true
   },
   "outputs": [],
   "source": [
    "plt.figure(figsize=(12,6))\n",
    "sns.boxplot(x=df.points)\n",
    "plt.title(\"Points Boxplot\")\n",
    "plt.show()"
   ]
  },
  {
   "cell_type": "markdown",
   "metadata": {
    "_uuid": "b17da282232b1ac2e1a0ddd48e3e1fe4623c38bd"
   },
   "source": [
    " **Best Wines According to Points** (Top 20)"
   ]
  },
  {
   "cell_type": "code",
   "execution_count": null,
   "metadata": {
    "_uuid": "7f18936f1635f3f0f4873e45100e18fbe1f91721",
    "trusted": true
   },
   "outputs": [],
   "source": [
    "top20Points = df.sort_values(by=\"points\", ascending=False).head(20)\n",
    "\n",
    "for i in range(20):\n",
    "    print(\"{} / {} / {} / $ {}\".format(top20Points.title.values[i], top20Points.country.values[i], top20Points.province.values[i], top20Points.price.values[i]))\n",
    "    print(\"-----------------------------------------------------------------------------------------------------------------------\")"
   ]
  },
  {
   "cell_type": "markdown",
   "metadata": {
    "_uuid": "6fcf2e7de9df2b5fdc90dfc9066d6e7d069e39f3"
   },
   "source": [
    "<img src=\"https://i.ytimg.com/vi/pkVhgV705VA/hqdefault.jpg\" width=400/>\n",
    "<img src=\"https://thefinestbubble.com/the-finest-bubble-products-champagne-buy-online-same-day-london-delivery-free-delivery-%A3200%2B-next-day-uk-delivery-bottle-75cl-corporate-gifts-champagne-gift/thumbnails-new/salon-le-mesnil-blanc-de-blanc-2006-.jpg\" width=350/>"
   ]
  },
  {
   "cell_type": "code",
   "execution_count": null,
   "metadata": {
    "_uuid": "e35074776796dde6ebed51fc595de6160c7239f7",
    "trusted": true
   },
   "outputs": [],
   "source": [
    "labels = top20Points.country.value_counts().index\n",
    "values = top20Points.country.value_counts().values\n",
    "\n",
    "trace = go.Pie(labels=labels, values=values)\n",
    "\n",
    "iplot([trace])"
   ]
  },
  {
   "cell_type": "markdown",
   "metadata": {
    "_uuid": "9852a9cfccc7c35aa4377cfedfd08d9efab06875"
   },
   "source": [
    "**The Type of Grapes Used to Make The Wine** (Top 10)\n",
    "<br>\n",
    "<img src=\"https://static.vinepair.com/wp-content/uploads/2017/09/9-pinot-noir-internal.jpg\" width=400/>\n",
    "<font size=0.5 color=\"red\">Pinot Noir</font>"
   ]
  },
  {
   "cell_type": "code",
   "execution_count": null,
   "metadata": {
    "_uuid": "d04c84e9aee7730e85ddb9e8a82f258c01cc5996",
    "trusted": true
   },
   "outputs": [],
   "source": [
    "df.variety.value_counts()\n",
    "\n",
    "fig = {\n",
    "  \"data\": [\n",
    "    {\n",
    "      \"values\": df.variety.value_counts().values[:10],\n",
    "      \"labels\": df.variety.value_counts().index[:10],\n",
    "      \"name\": \"Variaty\",\n",
    "      \"hoverinfo\":\"label+percent+name\",\n",
    "      \"hole\": .4,\n",
    "      \"type\": \"pie\"\n",
    "    },\n",
    "    ],\n",
    "  \"layout\": {\n",
    "        \"title\":\"Variaty\",\n",
    "        \"annotations\": [\n",
    "            {\n",
    "                \"font\": {\n",
    "                    \"size\": 20\n",
    "                },\n",
    "                \"showarrow\": False,\n",
    "                \"text\": \"Grapes\",\n",
    "                \"x\": 0.5,\n",
    "                \"y\": 0.5\n",
    "            },\n",
    "        ]\n",
    "    }\n",
    "}\n",
    "\n",
    "iplot(fig)"
   ]
  },
  {
   "cell_type": "markdown",
   "metadata": {
    "_uuid": "190581256608d34a54252b80c288d1610b8962ee"
   },
   "source": [
    "\n",
    "# <a id=3></a> Natural Language Process (NLP) \n",
    "Now we will try to predict if a wine's point is above average or not. We'll do that by using descriptions about wines and we'll use NLP algorithm."
   ]
  },
  {
   "cell_type": "code",
   "execution_count": null,
   "metadata": {
    "_uuid": "5889fbab494cff70e8f2f76d979ce90168d4d8fb",
    "trusted": true
   },
   "outputs": [],
   "source": [
    "meanPoints = df.points.mean()\n",
    "df[\"Above_Average\"] = [1 if i > meanPoints else 0 for i in df.points]"
   ]
  },
  {
   "cell_type": "code",
   "execution_count": null,
   "metadata": {},
   "outputs": [],
   "source": [
    "import nltk\n",
    "\n",
    "nltk.download('wordnet')   # For Lemmatization\n",
    "nltk.download('stopwords') # For Stopwords Removal\n",
    "nltk.download('punkt')     # For Tokenization\n"
   ]
  },
  {
   "cell_type": "code",
   "execution_count": null,
   "metadata": {},
   "outputs": [],
   "source": [
    "!pip install swifter "
   ]
  },
  {
   "cell_type": "code",
   "execution_count": null,
   "metadata": {},
   "outputs": [],
   "source": [
    "import swifter\n",
    "df[\"cleaned_description\"] = df[\"description\"].swifter.apply(preprocess_text)\n"
   ]
  },
  {
   "cell_type": "code",
   "execution_count": null,
   "metadata": {
    "_uuid": "0147c4251ef2025cb432a49d1df1bfc305702d90",
    "trusted": true
   },
   "outputs": [],
   "source": [
    "# This process can takes long time. Because we have a lot of descriptions.\n",
    "\n",
    "import re\n",
    "import nltk\n",
    "from nltk.corpus import stopwords\n",
    "import nltk as nlp\n",
    "\n",
    "descriptionList = list()\n",
    "lemma = nlp.WordNetLemmatizer()\n",
    "\n",
    "for description in df.description:\n",
    "    description = re.sub(\"[^a-zA-Z]\",\" \",description) # We use regular expression to delete non-alphabetic characters on data.\n",
    "    description = description.lower() # Since upper and lower characters are (e.g a - A) evaluated like they are different each other by computer we make turn whole characters into lowercase.\n",
    "    description = nltk.word_tokenize(description) # We tokenized the statement\n",
    "    description = [i for i in description if not i in set(stopwords.words(\"english\"))] # We will remove words like 'the', 'or', 'and', 'is' etc.\n",
    "    description = [lemma.lemmatize(i)for i in description] # e.g: loved => love\n",
    "    description = \" \".join(description) # Now we turn our words list into sentence again\n",
    "    descriptionList.append(description)"
   ]
  },
  {
   "cell_type": "code",
   "execution_count": null,
   "metadata": {
    "_uuid": "25f3f4ee46270e70344e6978a0b96c2466f32e3d",
    "trusted": true
   },
   "outputs": [],
   "source": [
    "from sklearn.feature_extraction.text import CountVectorizer"
   ]
  },
  {
   "cell_type": "code",
   "execution_count": null,
   "metadata": {
    "_uuid": "f217093543583a2cce2f733097d18de208264fa1",
    "trusted": true
   },
   "outputs": [],
   "source": [
    "# We try to use most common 1500 words to make a prediction.\n",
    "\n",
    "max_features = 1500\n",
    "count_vectorizer = CountVectorizer(max_features=max_features) # stop_words=\"english\" i istersek burada yazabilirdik, lowercase' de burada kullanabilirdik vs.\n",
    "sparce_matrix = count_vectorizer.fit_transform(descriptionList)"
   ]
  },
  {
   "cell_type": "code",
   "execution_count": null,
   "metadata": {
    "_uuid": "b96ad3bca9362c82f7070050bfc38167a3643e66",
    "trusted": true
   },
   "outputs": [],
   "source": [
    "sparce_matrix = sparce_matrix.toarray()"
   ]
  },
  {
   "cell_type": "code",
   "execution_count": null,
   "metadata": {
    "_uuid": "1bc103440cd3d9da601a33d459ee63f60b74fe08",
    "trusted": true
   },
   "outputs": [],
   "source": [
    "print(\"Most Frequent {} Words: {}\".format(max_features, count_vectorizer.get_feature_names_out()))\n"
   ]
  },
  {
   "cell_type": "code",
   "execution_count": null,
   "metadata": {
    "_uuid": "6435af9e8d131e8d11c35756487fdc62c6b1daa0",
    "trusted": true
   },
   "outputs": [],
   "source": [
    "x = sparce_matrix\n",
    "y = df.iloc[:,13].values"
   ]
  },
  {
   "cell_type": "code",
   "execution_count": null,
   "metadata": {
    "_uuid": "50524ab4bb69308aec7698dbdf7f2c4ea4ddda57",
    "trusted": true
   },
   "outputs": [],
   "source": [
    "from sklearn.model_selection import train_test_split"
   ]
  },
  {
   "cell_type": "code",
   "execution_count": null,
   "metadata": {
    "_uuid": "f0fcf51cb4af227fe88282632876287410786e2e",
    "trusted": true
   },
   "outputs": [],
   "source": [
    "# Check available columns\n",
    "print(\"Available columns:\", df.columns)\n",
    "\n",
    "# Define the correct target column name (replace with the actual column name)\n",
    "target_column = 'Above_Average'  # Update this based on df.columns output\n",
    "\n",
    "# Ensure the column exists before dropping NaN values\n",
    "if target_column in df.columns:\n",
    "    df = df.dropna(subset=['description', target_column])\n",
    "else:\n",
    "    print(f\"Error: '{target_column}' column not found in the dataset.\")\n",
    "\n",
    "# Ensure x and y are properly aligned\n",
    "x = df['description'].values  # Convert to NumPy array to prevent misalignment\n",
    "y = df[target_column].values  # Convert to NumPy array\n",
    "\n",
    "print(f\"Shape of x: {x.shape}, Shape of y: {y.shape}\")\n"
   ]
  },
  {
   "cell_type": "code",
   "execution_count": null,
   "metadata": {
    "_uuid": "e3c4661551ba18277852a86bbc2f197888acaebf",
    "trusted": true
   },
   "outputs": [],
   "source": [
    "import numpy as np\n",
    "\n",
    "# Ensure `sparce_matrix` is in NumPy array format\n",
    "if isinstance(sparce_matrix, np.ndarray):\n",
    "    x = sparce_matrix  # Already a NumPy array, use directly\n",
    "else:\n",
    "    x = sparce_matrix.toarray()  # Convert sparse matrix to dense format\n",
    "\n",
    "# Ensure lengths match\n",
    "min_len = min(len(x), len(df[\"Above_Average\"]))\n",
    "\n",
    "# Slice to make lengths equal\n",
    "x = x[:min_len]\n",
    "y = df[\"Above_Average\"].values[:min_len]\n",
    "\n",
    "# Split dataset into training and testing sets\n",
    "x_train, x_test, y_train, y_test = train_test_split(x, y, test_size=0.3, random_state=42)\n",
    "\n",
    "# Train the model\n",
    "nb = GaussianNB()\n",
    "nb.fit(x_train, y_train)\n",
    "\n",
    "# Predict and evaluate\n",
    "y_pred = nb.predict(x_test)\n",
    "print(\"Model trained successfully!\")\n"
   ]
  },
  {
   "cell_type": "code",
   "execution_count": null,
   "metadata": {
    "_uuid": "9a5c987a1076b4366c71f73407ea16570bb1a0fd",
    "trusted": true
   },
   "outputs": [],
   "source": [
    "# Prediction\n",
    "y_pred = nb.predict(x_test)"
   ]
  },
  {
   "cell_type": "code",
   "execution_count": null,
   "metadata": {
    "_uuid": "3766a49f53add8ea0e0b1a48b6613fab2a5528cd",
    "trusted": true
   },
   "outputs": [],
   "source": [
    "# Calculate accuracy correctly\n",
    "accuracy = nb.score(x_test, y_test) * 100\n",
    "print(\"Accuracy: {:.2f}%\".format(accuracy))\n"
   ]
  },
  {
   "cell_type": "markdown",
   "metadata": {
    "_uuid": "b332569d82f12baad297e7d2fe21a2928f950063"
   },
   "source": [
    "<font color=\"blue\" size= 5 >Our model works with <font color=\"red\">**76.76%**</font> of accuracy.</font>\n",
    "<br>\n",
    "<br>\n",
    "<br>\n",
    "<font size=4>**Thanks for your time.<br>\n",
    "If you like it please upvote and I will be glad to hear your feedbacks!**</font>"
   ]
  }
 ],
 "metadata": {
  "kaggle": {
   "accelerator": "none",
   "dataSources": [
    {
     "datasetId": 1442,
     "sourceId": 8172,
     "sourceType": "datasetVersion"
    }
   ],
   "dockerImageVersionId": 16559,
   "isGpuEnabled": false,
   "isInternetEnabled": false,
   "language": "python",
   "sourceType": "notebook"
  },
  "kernelspec": {
   "display_name": "Python 3",
   "language": "python",
   "name": "python3"
  },
  "language_info": {
   "codemirror_mode": {
    "name": "ipython",
    "version": 3
   },
   "file_extension": ".py",
   "mimetype": "text/x-python",
   "name": "python",
   "nbconvert_exporter": "python",
   "pygments_lexer": "ipython3",
   "version": "3.11.0"
  }
 },
 "nbformat": 4,
 "nbformat_minor": 4
}
